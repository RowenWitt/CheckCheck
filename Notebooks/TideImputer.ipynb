{
 "cells": [
  {
   "cell_type": "code",
   "execution_count": null,
   "id": "f89e3cb1",
   "metadata": {},
   "outputs": [],
   "source": [
    "# def dict_to_list(dictionary):\n",
    "#     outlist = []\n",
    "    \n",
    "    "
   ]
  },
  {
   "cell_type": "code",
   "execution_count": 6,
   "id": "46a7dfdf",
   "metadata": {},
   "outputs": [],
   "source": [
    "import requests\n",
    "import sqlalchemy\n",
    "import pandas as pd\n",
    "import numpy as np\n",
    "import json\n",
    "import time"
   ]
  },
  {
   "cell_type": "code",
   "execution_count": 7,
   "id": "fce31aeb",
   "metadata": {},
   "outputs": [],
   "source": [
    "tide_station_list = {\n",
    "    'PortTownsendWA' : 9444900,\n",
    "    'PortAngelesWA' : 9444090,\n",
    "    'NeahBayWA' : 9443090,\n",
    "    'LaPushQuillayuteRiverWA' : 9442396,\n",
    "    'WestportWA' : 9441102,\n",
    "    'TokePointWA' : 9440910,\n",
    "    'CapeDisappointmentWA' : 9440581,\n",
    "    'SkamokawaWA' : 9440569,\n",
    "    'WaunaOR' : 9439099,\n",
    "    'AstoriaOR' : 9439040,\n",
    "    'GaribaliOR' : 9437540,\n",
    "    'SouthBeachOR' : 9435380,\n",
    "    'CharlestonOR' : 9432780,\n",
    "    'PortOrfordOR' : 9431647,\n",
    "    'CrescentCityCA' : 9419750,\n",
    "    'NorthSpitCA' : 9418767,\n",
    "    'ArenaCoveCA' : 9416841,\n",
    "    'PointReyesCA' : 9415020,\n",
    "    'PortChicagoCA' : 9415144,\n",
    "    'SanFranciscoCA' : 9414290,\n",
    "    'RedwoodCityCA' : 9414523,\n",
    "    'MontereyCA' : 9413450,\n",
    "    'PortSanLuisCA' : 9412110,\n",
    "    'OilPlatfromCA' : 9411406,\n",
    "    'SantaBarbaraCA' : 9411340,\n",
    "    'SantaMonicaCA' : 9410840,\n",
    "    'LosAngelesCA' : 9410660,\n",
    "    'LaJollaCA' : 9410230,\n",
    "    'SanDiegoCA' : 9410170,\n",
    "}\n",
    "\n",
    "LA_wind_station_list = {\n",
    "    'AngelsGateCA' : 9410647,\n",
    "    'LAPier400CA' : 9410666,\n",
    "    'LABerth161CA' : 9410690,\n",
    "    'LABadAveBridgeCA' : 9410691,\n",
    "    'LAPierSCA' : 9410692,\n",
    "    'LAPierFCA' : 9410670,\n",
    "    'LAPierJCA' : 9410665 \n",
    "}"
   ]
  },
  {
   "cell_type": "code",
   "execution_count": 3,
   "id": "efe8ab71",
   "metadata": {},
   "outputs": [],
   "source": [
    "# Limit is 6 reqs per minute, maybe 5-10 secs per req, \n",
    "def APICaller(listOfInputs):\n",
    "    outputs = []\n",
    "    for i in listOfInputs.values():\n",
    "        response = requests.get(\"https://api.tidesandcurrents.noaa.gov/api/prod/datagetter?date=today&station={}&product=predictions&datum=STND&time_zone=gmt&interval=hilo&units=english&application=Waves_data&format=json\".format(i))\n",
    "        step_one = response.json()\n",
    "        step_two = step_one.get('predictions')\n",
    "        outputs.append(step_two)\n",
    "        time.sleep(15)\n",
    "    return outputs\n",
    "\n",
    "\n",
    "# Creates a list of empty variable names of n-length\n",
    "def n_vars(list_dicts):\n",
    "    bb = []\n",
    "    for i in range(0,len(list_dicts)):\n",
    "        var_name = \"var%d\" % i\n",
    "        bb.append(var_name)\n",
    "    return(bb)    \n",
    "\n",
    "    \n",
    "# Merges n lists together\n",
    "def merge_n(list_dicts):\n",
    "    for i in range(0, len(list_dicts)):\n",
    "        bb[i] = list_dicts\n",
    "    \n",
    "    \n",
    "# Flattens nested lists\n",
    "def flatten(weird_list):\n",
    "    flat_list, fat_list = ([], ) * 2\n",
    "    for element in weird_list:\n",
    "        if type(element) is list:\n",
    "            for item in element:\n",
    "                flat_list.append(item)\n",
    "        else:\n",
    "            flat_list.append(element)\n",
    "        return flat_list\n",
    "    \n"
   ]
  },
  {
   "cell_type": "code",
   "execution_count": 4,
   "id": "32c1756a",
   "metadata": {},
   "outputs": [],
   "source": [
    "lst = APICaller(tide_station_list)\n",
    "names = list(tide_station_list.keys())"
   ]
  },
  {
   "cell_type": "code",
   "execution_count": 5,
   "id": "cc528092",
   "metadata": {},
   "outputs": [
    {
     "name": "stdout",
     "output_type": "stream",
     "text": [
      "0\n",
      "0\n",
      "1\n",
      "2\n",
      "3\n",
      "-1\n",
      "0\n",
      "1\n",
      "2\n",
      "3\n",
      "-2\n",
      "0\n",
      "1\n",
      "2\n",
      "3\n",
      "-3\n",
      "0\n",
      "1\n",
      "2\n",
      "3\n",
      "-4\n",
      "0\n",
      "1\n",
      "2\n",
      "3\n",
      "-5\n",
      "0\n",
      "1\n",
      "2\n",
      "3\n",
      "-6\n",
      "0\n",
      "1\n",
      "2\n",
      "3\n",
      "-7\n",
      "0\n",
      "1\n",
      "2\n",
      "3\n",
      "-8\n",
      "0\n"
     ]
    },
    {
     "ename": "TypeError",
     "evalue": "'NoneType' object is not subscriptable",
     "output_type": "error",
     "traceback": [
      "\u001b[0;31m---------------------------------------------------------------------------\u001b[0m",
      "\u001b[0;31mTypeError\u001b[0m                                 Traceback (most recent call last)",
      "\u001b[0;32m<ipython-input-5-02ecf8b50f9e>\u001b[0m in \u001b[0;36m<module>\u001b[0;34m\u001b[0m\n\u001b[1;32m      5\u001b[0m     \u001b[0;32mfor\u001b[0m \u001b[0mj\u001b[0m \u001b[0;32min\u001b[0m \u001b[0mrange\u001b[0m\u001b[0;34m(\u001b[0m\u001b[0;36m0\u001b[0m\u001b[0;34m,\u001b[0m \u001b[0mlen\u001b[0m\u001b[0;34m(\u001b[0m\u001b[0mlst\u001b[0m\u001b[0;34m[\u001b[0m\u001b[0;36m2\u001b[0m\u001b[0;34m]\u001b[0m\u001b[0;34m)\u001b[0m\u001b[0;34m)\u001b[0m\u001b[0;34m:\u001b[0m\u001b[0;34m\u001b[0m\u001b[0;34m\u001b[0m\u001b[0m\n\u001b[1;32m      6\u001b[0m         \u001b[0mprint\u001b[0m\u001b[0;34m(\u001b[0m\u001b[0mj\u001b[0m\u001b[0;34m)\u001b[0m\u001b[0;34m\u001b[0m\u001b[0;34m\u001b[0m\u001b[0m\n\u001b[0;32m----> 7\u001b[0;31m         \u001b[0mfinal\u001b[0m\u001b[0;34m.\u001b[0m\u001b[0mappend\u001b[0m\u001b[0;34m(\u001b[0m\u001b[0mlst\u001b[0m\u001b[0;34m[\u001b[0m\u001b[0mi\u001b[0m\u001b[0;34m]\u001b[0m\u001b[0;34m[\u001b[0m\u001b[0mj\u001b[0m\u001b[0;34m]\u001b[0m\u001b[0;34m)\u001b[0m\u001b[0;34m\u001b[0m\u001b[0;34m\u001b[0m\u001b[0m\n\u001b[0m\u001b[1;32m      8\u001b[0m \u001b[0mfinal\u001b[0m\u001b[0;34m\u001b[0m\u001b[0;34m\u001b[0m\u001b[0m\n",
      "\u001b[0;31mTypeError\u001b[0m: 'NoneType' object is not subscriptable"
     ]
    }
   ],
   "source": [
    "final = []\n",
    "for i in range(0, len(lst)):\n",
    "    final.append(names[i])\n",
    "    print(-i)\n",
    "    for j in range(0, len(lst[2])):\n",
    "        print(j)\n",
    "        final.append(lst[i][j])\n",
    "final"
   ]
  },
  {
   "cell_type": "code",
   "execution_count": 8,
   "id": "12c6bb43",
   "metadata": {},
   "outputs": [
    {
     "data": {
      "text/plain": [
       "{'t': '2021-06-05 01:26', 'v': '6.708', 'type': 'L'}"
      ]
     },
     "metadata": {},
     "output_type": "display_data"
    },
    {
     "data": {
      "text/plain": [
       "{'t': '2021-06-05 00:05', 'v': '32.916', 'type': 'L'}"
      ]
     },
     "metadata": {},
     "output_type": "display_data"
    },
    {
     "data": {
      "text/plain": [
       "4"
      ]
     },
     "execution_count": 8,
     "metadata": {},
     "output_type": "execute_result"
    }
   ],
   "source": [
    "display(lst[0][0])\n",
    "display(lst[1][0])\n",
    "len(lst[2])"
   ]
  },
  {
   "cell_type": "code",
   "execution_count": null,
   "id": "cca49c5e",
   "metadata": {},
   "outputs": [],
   "source": [
    "lst[28][3].values()"
   ]
  },
  {
   "cell_type": "code",
   "execution_count": null,
   "id": "d5bb1b64",
   "metadata": {},
   "outputs": [],
   "source": [
    "# lst[29][4]\n",
    "ericHolderHolder = []\n",
    "for i in range(0, len(lst)):\n",
    "    ericHolder = []\n",
    "    ericHolder.append(names[i])\n",
    "    for k in range(0, 3):\n",
    "        ericHolder.append(lst[i][k].values())\n",
    "    ericHolderHolder.append(ericHolder)\n",
    "\n",
    "\n",
    "ericHolderHolder"
   ]
  },
  {
   "cell_type": "code",
   "execution_count": null,
   "id": "760eb441",
   "metadata": {},
   "outputs": [],
   "source": [
    "a = flatten(lst)"
   ]
  },
  {
   "cell_type": "code",
   "execution_count": null,
   "id": "ac71ba2d",
   "metadata": {},
   "outputs": [],
   "source": [
    "a"
   ]
  },
  {
   "cell_type": "code",
   "execution_count": 34,
   "id": "a83df485",
   "metadata": {},
   "outputs": [],
   "source": [
    "# Iterates through names & station codes (input) and response dicts (output)\n",
    "data = zip(lst, tide_station_list)"
   ]
  },
  {
   "cell_type": "code",
   "execution_count": 36,
   "id": "e6614d76",
   "metadata": {},
   "outputs": [],
   "source": [
    "listData = list(data)"
   ]
  },
  {
   "cell_type": "code",
   "execution_count": null,
   "id": "c12e8a86",
   "metadata": {},
   "outputs": [],
   "source": []
  }
 ],
 "metadata": {
  "kernelspec": {
   "display_name": "Python 3",
   "language": "python",
   "name": "python3"
  },
  "language_info": {
   "codemirror_mode": {
    "name": "ipython",
    "version": 3
   },
   "file_extension": ".py",
   "mimetype": "text/x-python",
   "name": "python",
   "nbconvert_exporter": "python",
   "pygments_lexer": "ipython3",
   "version": "3.8.8"
  }
 },
 "nbformat": 4,
 "nbformat_minor": 5
}
