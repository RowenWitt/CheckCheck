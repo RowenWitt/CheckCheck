{
 "cells": [
  {
   "cell_type": "code",
   "execution_count": 75,
   "id": "4520b9bd",
   "metadata": {},
   "outputs": [],
   "source": [
    "# Create Table\n",
    "import uuid\n",
    "import sqlalchemy as db\n",
    "engine = db.create_engine('sqlite:///tideDB.sqlite3')\n",
    "connection = engine.connect()\n",
    "metadata = db.MetaData()\n",
    "\n",
    "tide = db.Table('tidevals', metadata,\n",
    "               db.Column('id', db.Integer, primary_key=True),\n",
    "               db.Column('buoyid', db.Integer, nullable=False),\n",
    "               db.Column('location', db.String(50), nullable=False),\n",
    "               db.Column('datetime', db.String(255), nullable=False),\n",
    "               db.Column('predicted', db.Float(), nullable=False),\n",
    "               db.Column('highlow', db.String(2), nullable=False),\n",
    "              sqlite_autoincrement=True)\n",
    "\n",
    "metadata.create_all(engine)"
   ]
  },
  {
   "cell_type": "code",
   "execution_count": 9,
   "id": "71a4f85c",
   "metadata": {},
   "outputs": [],
   "source": [
    "import requests\n",
    "import time\n",
    "def initial_calls():\n",
    "    \"\"\" \n",
    "    Makes calls for each buoy on list for year intervals on list.  Stores in one big array.\n",
    "    Only about 130k records so one big array is fine.  Not sure point at which that needs to \n",
    "    be broken up.\n",
    "\n",
    "    \"\"\"\n",
    "    KPList = list(historicInfill.values())[0]\n",
    "    keyList = [list(i.keys())[0] for i in KPList]\n",
    "    station_list_keys = list(tide_station_list.keys())\n",
    "    station_list_values = list(tide_station_list.values())\n",
    "    bigList = []\n",
    "    # for j in range(len(station_list_keys)):\n",
    "    for j in range(1):\n",
    "        id = station_list_values[j]\n",
    "        idName = station_list_keys[j]\n",
    "        # for i in range(len(keyList)):\n",
    "        for i in range(3):\n",
    "            start = list(KPList[i].values())[0]['start']\n",
    "            end = list(KPList[i].values())[0]['end']\n",
    "            call = requests.get(f\"https://api.tidesandcurrents.noaa.gov/api/prod/datagetter?begin_date={start}&end_date={end}&station={id}&product=predictions&datum=STND&time_zone=gmt&interval=hilo&units=english&application=Waves_data&format=json\")\n",
    "            try:\n",
    "                response = call.json()['predictions']\n",
    "            except KeyError:\n",
    "                print(\"Failed at {idName}\".format)\n",
    "                return bigList\n",
    "            oneStep = [list(i.values()) for i in response]\n",
    "            print(id, idName, start, end)\n",
    "            [i.extend([id, idName]) for i in oneStep]\n",
    "            bigList.extend(oneStep)\n",
    "            if (i + 1) % 5 == 0:\n",
    "                print(\"Buoy {} API call {} / {} complete, sleeping 45\".format(id, i+1, len(keyList)))\n",
    "                time.sleep(45)\n",
    "        \n",
    "        print(len(bigList))\n",
    "        print(len(bigList[i]))\n",
    "    return bigList"
   ]
  },
  {
   "cell_type": "code",
   "execution_count": 10,
   "id": "75f22afa",
   "metadata": {},
   "outputs": [
    {
     "name": "stdout",
     "output_type": "stream",
     "text": [
      "9444900 PortTownsend_WA 19000101 19051231\n",
      "9444900 PortTownsend_WA 19060101 19091231\n",
      "9444900 PortTownsend_WA 19100101 19151231\n",
      "22226\n",
      "5\n"
     ]
    }
   ],
   "source": [
    "a = initial_calls()\n"
   ]
  },
  {
   "cell_type": "code",
   "execution_count": 16,
   "id": "8e880a2f",
   "metadata": {},
   "outputs": [
    {
     "data": {
      "text/plain": [
       "['1915-12-31 18:31', '12.622', 'H', 9444900, 'PortTownsend_WA']"
      ]
     },
     "execution_count": 16,
     "metadata": {},
     "output_type": "execute_result"
    }
   ],
   "source": []
  },
  {
   "cell_type": "code",
   "execution_count": 76,
   "id": "10ccbd4c",
   "metadata": {},
   "outputs": [
    {
     "name": "stdout",
     "output_type": "stream",
     "text": [
      "Buoy 9444900 API call 5 / 40 complete\n",
      "Buoy 9444900 API call 10 / 40 complete\n",
      "Buoy 9444900 API call 15 / 40 complete\n",
      "Buoy 9444900 API call 20 / 40 complete\n",
      "Buoy 9444900 API call 25 / 40 complete\n",
      "Buoy 9444900 API call 30 / 40 complete\n",
      "Buoy 9444900 API call 35 / 40 complete\n",
      "Buoy 9444900 API call 40 / 40 complete\n",
      "Buoy 9444090 API call 5 / 40 complete\n",
      "Buoy 9444090 API call 10 / 40 complete\n",
      "Buoy 9444090 API call 15 / 40 complete\n",
      "Buoy 9444090 API call 20 / 40 complete\n",
      "Buoy 9444090 API call 25 / 40 complete\n",
      "Buoy 9444090 API call 30 / 40 complete\n",
      "Buoy 9444090 API call 35 / 40 complete\n",
      "Buoy 9444090 API call 40 / 40 complete\n"
     ]
    }
   ],
   "source": [
    "import requests\n",
    "a = tideTest()\n",
    "\n",
    "data = []\n",
    "for rows in a:\n",
    "    entry = {'buoyid':rows[3], 'location':rows[4], 'datetime':rows[0], 'predicted':rows[1], 'highlow':rows[2]} \n",
    "    data.append(entry)"
   ]
  },
  {
   "cell_type": "code",
   "execution_count": 77,
   "id": "a3b7dda3",
   "metadata": {},
   "outputs": [],
   "source": [
    "# To insert data into the db\n",
    "query = db.insert(tide)\n",
    "ResultProxy = connection.execute(query, data)"
   ]
  },
  {
   "cell_type": "code",
   "execution_count": 82,
   "id": "8430d7c1",
   "metadata": {},
   "outputs": [
    {
     "data": {
      "text/html": [
       "<div>\n",
       "<style scoped>\n",
       "    .dataframe tbody tr th:only-of-type {\n",
       "        vertical-align: middle;\n",
       "    }\n",
       "\n",
       "    .dataframe tbody tr th {\n",
       "        vertical-align: top;\n",
       "    }\n",
       "\n",
       "    .dataframe thead th {\n",
       "        text-align: right;\n",
       "    }\n",
       "</style>\n",
       "<table border=\"1\" class=\"dataframe\">\n",
       "  <thead>\n",
       "    <tr style=\"text-align: right;\">\n",
       "      <th></th>\n",
       "      <th>id</th>\n",
       "      <th>buoyid</th>\n",
       "      <th>location</th>\n",
       "      <th>datetime</th>\n",
       "      <th>predicted</th>\n",
       "      <th>highlow</th>\n",
       "    </tr>\n",
       "  </thead>\n",
       "  <tbody>\n",
       "    <tr>\n",
       "      <th>0</th>\n",
       "      <td>1</td>\n",
       "      <td>9444900</td>\n",
       "      <td>PortTownsend_WA</td>\n",
       "      <td>2095-01-01 02:23</td>\n",
       "      <td>5.218</td>\n",
       "      <td>L</td>\n",
       "    </tr>\n",
       "    <tr>\n",
       "      <th>1</th>\n",
       "      <td>2</td>\n",
       "      <td>9444900</td>\n",
       "      <td>PortTownsend_WA</td>\n",
       "      <td>2095-01-01 10:32</td>\n",
       "      <td>9.466</td>\n",
       "      <td>H</td>\n",
       "    </tr>\n",
       "    <tr>\n",
       "      <th>2</th>\n",
       "      <td>3</td>\n",
       "      <td>9444900</td>\n",
       "      <td>PortTownsend_WA</td>\n",
       "      <td>2095-01-01 13:07</td>\n",
       "      <td>9.124</td>\n",
       "      <td>L</td>\n",
       "    </tr>\n",
       "    <tr>\n",
       "      <th>3</th>\n",
       "      <td>4</td>\n",
       "      <td>9444900</td>\n",
       "      <td>PortTownsend_WA</td>\n",
       "      <td>2095-01-01 19:24</td>\n",
       "      <td>11.985</td>\n",
       "      <td>H</td>\n",
       "    </tr>\n",
       "    <tr>\n",
       "      <th>4</th>\n",
       "      <td>5</td>\n",
       "      <td>9444900</td>\n",
       "      <td>PortTownsend_WA</td>\n",
       "      <td>2095-01-02 02:52</td>\n",
       "      <td>4.198</td>\n",
       "      <td>L</td>\n",
       "    </tr>\n",
       "  </tbody>\n",
       "</table>\n",
       "</div>"
      ],
      "text/plain": [
       "   id   buoyid         location          datetime  predicted highlow\n",
       "0   1  9444900  PortTownsend_WA  2095-01-01 02:23      5.218       L\n",
       "1   2  9444900  PortTownsend_WA  2095-01-01 10:32      9.466       H\n",
       "2   3  9444900  PortTownsend_WA  2095-01-01 13:07      9.124       L\n",
       "3   4  9444900  PortTownsend_WA  2095-01-01 19:24     11.985       H\n",
       "4   5  9444900  PortTownsend_WA  2095-01-02 02:52      4.198       L"
      ]
     },
     "execution_count": 82,
     "metadata": {},
     "output_type": "execute_result"
    }
   ],
   "source": [
    "import pandas as pd\n",
    "# To read out data from db\n",
    "results = connection.execute(db.select([tide])).fetchall()\n",
    "df = pd.DataFrame(results)\n",
    "try:\n",
    "    df.columns = results[0].keys()\n",
    "except IndexError:\n",
    "    print(\"Table is empty or doesn't exist\")\n",
    "df.head()"
   ]
  },
  {
   "cell_type": "code",
   "execution_count": 74,
   "id": "fff7c707",
   "metadata": {},
   "outputs": [],
   "source": [
    "# drop a table\n",
    "emp.drop(engine)  # Drops a single table\n",
    "\n",
    "metadata.drop_all(engine) # drops all tables in the database\n",
    "\n"
   ]
  },
  {
   "cell_type": "code",
   "execution_count": 70,
   "id": "adb5f9d7",
   "metadata": {},
   "outputs": [
    {
     "ename": "TypeError",
     "evalue": "object of type 'NoneType' has no len()",
     "output_type": "error",
     "traceback": [
      "\u001b[0;31m---------------------------------------------------------------------------\u001b[0m",
      "\u001b[0;31mTypeError\u001b[0m                                 Traceback (most recent call last)",
      "\u001b[0;32m<ipython-input-70-2167e86f0049>\u001b[0m in \u001b[0;36m<module>\u001b[0;34m\u001b[0m\n\u001b[0;32m----> 1\u001b[0;31m \u001b[0mlen\u001b[0m\u001b[0;34m(\u001b[0m\u001b[0mh\u001b[0m\u001b[0;34m)\u001b[0m\u001b[0;34m\u001b[0m\u001b[0;34m\u001b[0m\u001b[0m\n\u001b[0m",
      "\u001b[0;31mTypeError\u001b[0m: object of type 'NoneType' has no len()"
     ]
    }
   ],
   "source": [
    "len(h)"
   ]
  },
  {
   "cell_type": "code",
   "execution_count": 5,
   "id": "187b3eb5",
   "metadata": {},
   "outputs": [],
   "source": [
    "# #from flask import Flask\n",
    "# #import openaq\n",
    "# import requests\n",
    "\n",
    "# response = requests.get('https://api.openaq.org/v1/measurements?city=Los%20Angeles&parameter=pm25')\n",
    "# rj = response.json()\n",
    "# rj = list(response.json().values())[1]\n",
    "# rj"
   ]
  },
  {
   "cell_type": "code",
   "execution_count": 119,
   "id": "17de7fa6",
   "metadata": {},
   "outputs": [],
   "source": [
    "# def get_data():\n",
    "#     response = requests.get(\n",
    "#       \"https://api.openaq.org/v1/measurements?city=Los%20Angeles&parameter=pm25\")\n",
    "#     return response\n",
    "# API = get_data()\n",
    "\n",
    "\n",
    "# def date_val(res):\n",
    "#     \"\"\" extracts date & value \"\"\"\n",
    "#     rj = list(res.json().values())[1]\n",
    "#     tupes = []\n",
    "#     for i in rj:\n",
    "#         a = (i['date']['utc'])\n",
    "#         b = (i['value'])\n",
    "#         tupelo = (a, b)\n",
    "#         tupes.append(tupelo)\n",
    "#     return tupes\n",
    "\n",
    "# a = date_val(API)"
   ]
  },
  {
   "cell_type": "code",
   "execution_count": 6,
   "id": "7608e42e",
   "metadata": {},
   "outputs": [],
   "source": [
    "# a"
   ]
  },
  {
   "cell_type": "code",
   "execution_count": null,
   "id": "f1e832be",
   "metadata": {},
   "outputs": [],
   "source": []
  },
  {
   "cell_type": "code",
   "execution_count": 96,
   "id": "cc4849b4",
   "metadata": {},
   "outputs": [],
   "source": [
    "def date_val(res):\n",
    "    \"\"\" extracts date & value \"\"\"\n",
    "    rj = list(res.json().values())[1]\n",
    "    tupes = []\n",
    "    for i in rj:\n",
    "        a = (i['date']['utc'])\n",
    "        b = (i['value'])\n",
    "        tupelo = (a, b)\n",
    "        tupes.append(tupelo)\n",
    "    return tupes\n",
    "\n",
    "date_val()"
   ]
  },
  {
   "cell_type": "code",
   "execution_count": 7,
   "id": "404538e8",
   "metadata": {},
   "outputs": [],
   "source": [
    "# \"\"\"OpenAQ Air Quality Dashboard with Flask.\"\"\"\n",
    "# from flask import Flask\n",
    "# from flask_sqlalchemy import SQLAlchemy\n",
    "# import requests\n",
    "\n",
    "# APP = Flask(__name__)\n",
    "# APP.config['SQLALCHEMY_DATABASE_URI'] = 'sqlite:///db.sqlite3'\n",
    "# APP.config['SQLALCHEMY_TRACK_MODIFICATIONS'] = False\n",
    "# DB = SQLAlchemy(APP)\n",
    "\n",
    "\n",
    "# def get_data():\n",
    "#     response = requests.get(\n",
    "#       \"\"\"https://api.openaq.org/v1/\n",
    "#       measurements?city=Los%20Angeles&parameter=pm25\"\"\")\n",
    "#     return response\n",
    "# API = get_data()\n",
    "\n",
    "\n",
    "# def date_val(res):\n",
    "#     \"\"\" extracts date & value \"\"\"\n",
    "#     rj = list(res.json().values())[1]\n",
    "#     tupes = []\n",
    "#     for i in rj:\n",
    "#         a = (i['date']['utc'])\n",
    "#         b = (i['value'])\n",
    "#         tupelo = (a, b)\n",
    "#         tupes.append(tupelo)\n",
    "#     return tupes\n",
    "\n",
    "\n",
    "# class Record(DB.Model):\n",
    "#     \"\"\" DB model for data \"\"\"\n",
    "#     id = DB.Column(DB.Integer, primary_key=True)\n",
    "#     datetime = DB.Column(DB.String(25))\n",
    "#     value = DB.Column(DB.Float, nullable=False)\n",
    "\n",
    "#     def __repr__(self):\n",
    "#         return \"\"\"<Time:{datetime},\n",
    "#         Value:{value} >\"\"\".format(datetime=self.datetime, value=self.value)\n",
    "\n",
    "\n",
    "# @APP.route('/')\n",
    "# def root():\n",
    "#     \"\"\" Base view. \"\"\"\n",
    "#     r = get_data()\n",
    "#     dv = date_val(r)\n",
    "#     check = Record.query.all()\n",
    "#     if len(check) == 0:\n",
    "#         for recs in dv:\n",
    "#             db_record = Record(id=id(recs), datetime=recs[0], value=recs[1])\n",
    "#             DB.session.add(db_record)\n",
    "#             DB.session.commit()\n",
    "#     out1 = str(dv)\n",
    "#     return out1\n",
    "\n",
    "\n",
    "# @APP.route('/get_results')\n",
    "# def get_results():\n",
    "#     \"\"\" Base view. \"\"\"\n",
    "#     response = get_data()\n",
    "#     dd = date_val(response)\n",
    "#     check = Record.query.all()\n",
    "#     if len(check) == 0:\n",
    "#         for recs in dd:\n",
    "#             db_record = Record(id=id(recs), datetime=recs[0], value=recs[1])\n",
    "#             DB.session.add(db_record)\n",
    "#             DB.session.commit()\n",
    "#     moTen = Record.query.filter(Record.value >= 10).all()\n",
    "#     out2 = str(moTen)\n",
    "#     return out2\n",
    "\n",
    "\n",
    "# @APP.route('/refresh')\n",
    "# def refresh():\n",
    "#     \"\"\" Pull fresh data from Open AQ and replace\n",
    "#     existing data. \"\"\"\n",
    "#     DB.drop_all()\n",
    "#     DB.create_all()\n",
    "#     upRes = get_data()\n",
    "#     upDv = date_val(upRes)\n",
    "#     for recs in upDv:\n",
    "#         db_record = Record(id=id(recs), datetime=recs[0], value=recs[1])\n",
    "#         DB.session.add(db_record)\n",
    "#         DB.session.commit()\n",
    "#     return 'Data refreshed!'\n",
    "\n"
   ]
  },
  {
   "cell_type": "code",
   "execution_count": 4,
   "id": "f485455d",
   "metadata": {},
   "outputs": [],
   "source": [
    "import datetime\n",
    "import math\n",
    "import requests"
   ]
  },
  {
   "cell_type": "code",
   "execution_count": 2,
   "id": "2be46ebb",
   "metadata": {},
   "outputs": [],
   "source": [
    "# # Function to split up input date into batches of 30 days\n",
    "# # Managing different month day count will be annoying\n",
    "# def batchAPI(date1, date2):\n",
    "#     \"\"\"\n",
    "#     Inputs: date strings, format: \"day/month/year\"(older one), \"day/month/year\"(newer one)\n",
    "#     Runtime = (numStations * numdays * numYears)*11 seconds (best case)\n",
    "#     Outputs: One huge list of sets of days of data\n",
    "#     \"\"\"\n",
    "#     dates = [date1, date2]\n",
    "#     dt1, dt2 = [datetime.datetime.strptime(x, \"%d/%m/%Y\") for x in dates]\n",
    "#     finalList = []  # Will contain n sets of 30 day api calls\n",
    "#     dateRange = dt2 - dt1\n",
    "#     dateRangeChunks = math.ceil(int(dateRange.days) / 30)\n",
    "#     dateRangeChunk = []  # Need to make 30 minute intervals\n",
    "\n",
    "#     return dateRangeChunks, dateRange"
   ]
  },
  {
   "cell_type": "code",
   "execution_count": 47,
   "id": "16d70238",
   "metadata": {},
   "outputs": [
    {
     "data": {
      "text/plain": [
       "(17, datetime.timedelta(days=484))"
      ]
     },
     "execution_count": 47,
     "metadata": {},
     "output_type": "execute_result"
    }
   ],
   "source": [
    "batchAPI('3/1/2020', '1/5/2021')"
   ]
  },
  {
   "cell_type": "code",
   "execution_count": 3,
   "id": "666e494f",
   "metadata": {},
   "outputs": [],
   "source": [
    "\n",
    "fmt = \"YrMoDa\"\n",
    "start = \"19060101\"\n",
    "end = \"19101231\"\n",
    "i = 9410170\n",
    "response2 = requests.get(f\"https://api.tidesandcurrents.noaa.gov/api/prod/datagetter?begin_date={start}&end_date={end}&station={i}&product=predictions&datum=STND&time_zone=gmt&interval=hilo&units=english&application=Waves_data&format=json\")\n"
   ]
  },
  {
   "cell_type": "code",
   "execution_count": 3,
   "id": "2e8cc2ae",
   "metadata": {},
   "outputs": [],
   "source": [
    "\"\"\"5 year intervals from 1900 - 2099\"\"\"\n",
    "historicInfill = {\n",
    "    \"dates\":[\n",
    "    {\"1900\":{\"start\":\"19000101\", \"end\":\"19051231\" }},\n",
    "    {\"1906\":{\"start\":\"19060101\", \"end\":\"19091231\" }},\n",
    "    {\"1910\":{\"start\":\"19100101\", \"end\":\"19151231\" }},\n",
    "    {\"1916\":{\"start\":\"19160101\", \"end\":\"19191231\" }},\n",
    "    {\"1920\":{\"start\":\"19200101\", \"end\":\"19251231\" }},\n",
    "    {\"1926\":{\"start\":\"19260101\", \"end\":\"19291231\" }},\n",
    "    {\"1930\":{\"start\":\"19300101\", \"end\":\"19351231\" }},\n",
    "    {\"1936\":{\"start\":\"19360101\", \"end\":\"19391231\" }},\n",
    "    {\"1940\":{\"start\":\"19400101\", \"end\":\"19451231\" }}, \n",
    "    {\"1946\":{\"start\":\"19460101\", \"end\":\"19491231\" }},\n",
    "    {\"1950\":{\"start\":\"19500101\", \"end\":\"19551231\" }},\n",
    "    {\"1956\":{\"start\":\"19560101\", \"end\":\"19591231\" }},\n",
    "    {\"1960\":{\"start\":\"19600101\", \"end\":\"19651231\" }},\n",
    "    {\"1966\":{\"start\":\"19660101\", \"end\":\"19691231\" }},\n",
    "    {\"1970\":{\"start\":\"19700101\", \"end\":\"19751231\" }},\n",
    "    {\"1976\":{\"start\":\"19761231\", \"end\":\"19791231\" }},\n",
    "    {\"1980\":{\"start\":\"19800101\", \"end\":\"19851231\" }},\n",
    "    {\"1986\":{\"start\":\"19860101\", \"end\":\"19891231\" }},\n",
    "    {\"1990\":{\"start\":\"19900101\", \"end\":\"19951231\" }},\n",
    "    {\"1996\":{\"start\":\"19960101\", \"end\":\"19991231\" }},\n",
    "    {\"2000\":{\"start\":\"20000101\", \"end\":\"20051231\" }},\n",
    "    {\"2005\":{\"start\":\"20050101\", \"end\":\"20091231\" }},\n",
    "    {\"2010\":{\"start\":\"20100101\", \"end\":\"20151231\" }},\n",
    "    {\"2016\":{\"start\":\"20160101\", \"end\":\"20191231\" }},\n",
    "    {\"2020\":{\"start\":\"20200101\", \"end\":\"20251231\" }},\n",
    "    {\"2026\":{\"start\":\"20260101\", \"end\":\"20291231\" }},\n",
    "    {\"2030\":{\"start\":\"20300101\", \"end\":\"20351231\" }},\n",
    "    {\"2036\":{\"start\":\"20360101\", \"end\":\"20391231\" }},\n",
    "    {\"2040\":{\"start\":\"20400101\", \"end\":\"20451231\" }},\n",
    "    {\"2045\":{\"start\":\"20450101\", \"end\":\"20491231\" }},\n",
    "    {\"2050\":{\"start\":\"20500101\", \"end\":\"20551231\" }},\n",
    "    {\"2056\":{\"start\":\"20560101\", \"end\":\"20591231\" }},\n",
    "    {\"2060\":{\"start\":\"20600101\", \"end\":\"20651231\" }},\n",
    "    {\"2065\":{\"start\":\"20650101\", \"end\":\"20691231\" }},\n",
    "    {\"2070\":{\"start\":\"20750101\", \"end\":\"20751231\" }},\n",
    "    {\"2076\":{\"start\":\"20760101\", \"end\":\"20791231\" }},\n",
    "    {\"2080\":{\"start\":\"20800101\", \"end\":\"20851231\" }},\n",
    "    {\"2086\":{\"start\":\"20860101\", \"end\":\"20891231\" }},\n",
    "    {\"2090\":{\"start\":\"20900101\", \"end\":\"20951231\" }},\n",
    "    {\"2095\":{\"start\":\"20950101\", \"end\":\"20991231\" }}]\n",
    "}"
   ]
  },
  {
   "cell_type": "code",
   "execution_count": 4,
   "id": "2438047c",
   "metadata": {},
   "outputs": [],
   "source": [
    "tide_station_list = {\n",
    "    'PortTownsend_WA' : 9444900,\n",
    "    'PortAngeles_WA' : 9444090,\n",
    "    'NeahBay_WA' : 9443090,\n",
    "    'LaPushQuillayuteRiver_WA' : 9442396,\n",
    "    'Westport_WA' : 9441102,\n",
    "    'TokePoint_WA' : 9440910,\n",
    "    'CapeDisappointment_WA' : 9440581,\n",
    "    'Skamokawa_WA' : 9440569,\n",
    "    'Wauna_OR' : 9439099,\n",
    "    'Astoria_OR' : 9439040,\n",
    "    'Garibali_OR' : 9437540,\n",
    "    'SouthBeach_OR' : 9435380,\n",
    "    'Charleston_OR' : 9432780,\n",
    "    'PortOrford_OR' : 9431647,\n",
    "    'CrescentCity_CA' : 9419750,\n",
    "    'NorthSpit_CA' : 9418767,\n",
    "    'ArenaCove_CA' : 9416841,\n",
    "    'PointReyes_CA' : 9415020,\n",
    "    'PortChicago_CA' : 9415144,\n",
    "    'SanFrancisco_CA' : 9414290,\n",
    "    'RedwoodCity_CA' : 9414523,\n",
    "    'Monterey_CA' : 9413450,\n",
    "    'PortSanLuis_CA' : 9412110,\n",
    "    'OilPlatfrom_CA' : 9411406,\n",
    "    'SantaBarbara_CA' : 9411340,\n",
    "    'SantaMonica_CA' : 9410840,\n",
    "    'LosAngeles_CA' : 9410660,\n",
    "    'LaJolla_CA' : 9410230,\n",
    "    'SanDiego_CA' : 9410170,\n",
    "}\n"
   ]
  },
  {
   "cell_type": "code",
   "execution_count": 94,
   "id": "033baa5a",
   "metadata": {},
   "outputs": [
    {
     "name": "stdout",
     "output_type": "stream",
     "text": [
      "9444900 PortTownsend_WA 19000101 19051231\n",
      "9444900 PortTownsend_WA 19060101 19091231\n",
      "9444900 PortTownsend_WA 19100101 19151231\n",
      "9444900 PortTownsend_WA 19160101 19191231\n",
      "9444900 PortTownsend_WA 19200101 19251231\n",
      "Buoy 9444900 API call 5 / 40 complete, sleeping 45\n",
      "9444900 PortTownsend_WA 19260101 19291231\n",
      "9444900 PortTownsend_WA 19300101 19351231\n",
      "9444900 PortTownsend_WA 19360101 19391231\n",
      "9444900 PortTownsend_WA 19400101 19451231\n",
      "9444900 PortTownsend_WA 19460101 19491231\n",
      "Buoy 9444900 API call 10 / 40 complete, sleeping 45\n"
     ]
    },
    {
     "ename": "KeyboardInterrupt",
     "evalue": "",
     "output_type": "error",
     "traceback": [
      "\u001b[0;31m---------------------------------------------------------------------------\u001b[0m",
      "\u001b[0;31mKeyboardInterrupt\u001b[0m                         Traceback (most recent call last)",
      "\u001b[0;32m<ipython-input-94-24385af0be94>\u001b[0m in \u001b[0;36m<module>\u001b[0;34m\u001b[0m\n\u001b[1;32m     30\u001b[0m \u001b[0;34m\u001b[0m\u001b[0m\n\u001b[1;32m     31\u001b[0m \u001b[0;34m\u001b[0m\u001b[0m\n\u001b[0;32m---> 32\u001b[0;31m \u001b[0mpre_processed_data\u001b[0m \u001b[0;34m=\u001b[0m \u001b[0minitial_calls\u001b[0m\u001b[0;34m(\u001b[0m\u001b[0;34m)\u001b[0m\u001b[0;34m\u001b[0m\u001b[0;34m\u001b[0m\u001b[0m\n\u001b[0m",
      "\u001b[0;32m<ipython-input-94-24385af0be94>\u001b[0m in \u001b[0;36minitial_calls\u001b[0;34m()\u001b[0m\n\u001b[1;32m     25\u001b[0m             \u001b[0;32mif\u001b[0m \u001b[0;34m(\u001b[0m\u001b[0mi\u001b[0m \u001b[0;34m+\u001b[0m \u001b[0;36m1\u001b[0m\u001b[0;34m)\u001b[0m \u001b[0;34m%\u001b[0m \u001b[0;36m5\u001b[0m \u001b[0;34m==\u001b[0m \u001b[0;36m0\u001b[0m\u001b[0;34m:\u001b[0m\u001b[0;34m\u001b[0m\u001b[0;34m\u001b[0m\u001b[0m\n\u001b[1;32m     26\u001b[0m                 \u001b[0mprint\u001b[0m\u001b[0;34m(\u001b[0m\u001b[0;34m\"Buoy {} API call {} / {} complete, sleeping 45\"\u001b[0m\u001b[0;34m.\u001b[0m\u001b[0mformat\u001b[0m\u001b[0;34m(\u001b[0m\u001b[0mid\u001b[0m\u001b[0;34m,\u001b[0m \u001b[0mi\u001b[0m\u001b[0;34m+\u001b[0m\u001b[0;36m1\u001b[0m\u001b[0;34m,\u001b[0m \u001b[0mlen\u001b[0m\u001b[0;34m(\u001b[0m\u001b[0mkeyList\u001b[0m\u001b[0;34m)\u001b[0m\u001b[0;34m)\u001b[0m\u001b[0;34m)\u001b[0m\u001b[0;34m\u001b[0m\u001b[0;34m\u001b[0m\u001b[0m\n\u001b[0;32m---> 27\u001b[0;31m                 \u001b[0mtime\u001b[0m\u001b[0;34m.\u001b[0m\u001b[0msleep\u001b[0m\u001b[0;34m(\u001b[0m\u001b[0;36m45\u001b[0m\u001b[0;34m)\u001b[0m\u001b[0;34m\u001b[0m\u001b[0;34m\u001b[0m\u001b[0m\n\u001b[0m\u001b[1;32m     28\u001b[0m         \u001b[0mbigList\u001b[0m\u001b[0;34m.\u001b[0m\u001b[0mextend\u001b[0m\u001b[0;34m(\u001b[0m\u001b[0moneStep\u001b[0m\u001b[0;34m)\u001b[0m\u001b[0;34m\u001b[0m\u001b[0;34m\u001b[0m\u001b[0m\n\u001b[1;32m     29\u001b[0m     \u001b[0;32mreturn\u001b[0m \u001b[0mbigList\u001b[0m\u001b[0;34m\u001b[0m\u001b[0;34m\u001b[0m\u001b[0m\n",
      "\u001b[0;31mKeyboardInterrupt\u001b[0m: "
     ]
    }
   ],
   "source": [
    "import time\n",
    "def initial_calls():\n",
    "    \"\"\" \n",
    "    Makes calls for each buoy on list for year intervals on list.  Stores in one big array.\n",
    "    Only about 130k records so one big array is fine.  Not sure point at which that needs to \n",
    "    be broken up.\n",
    "\n",
    "    \"\"\"\n",
    "    KPList = list(historicInfill.values())[0]\n",
    "    keyList = [list(i.keys())[0] for i in KPList]\n",
    "    station_list_keys = list(tide_station_list.keys())\n",
    "    station_list_values = list(tide_station_list.values())\n",
    "    bigList = []\n",
    "    for j in range(len(station_list_keys)):\n",
    "        id = station_list_values[j]\n",
    "        idName = station_list_keys[j]\n",
    "        for i in range(len(keyList)):\n",
    "            start = list(KPList[i].values())[0]['start']\n",
    "            end = list(KPList[i].values())[0]['end']\n",
    "            call = requests.get(f\"https://api.tidesandcurrents.noaa.gov/api/prod/datagetter?begin_date={start}&end_date={end}&station={id}&product=predictions&datum=STND&time_zone=gmt&interval=hilo&units=english&application=Waves_data&format=json\")\n",
    "            response = call.json()['predictions']\n",
    "            oneStep = [list(i.values()) for i in response]\n",
    "            print(id, idName, start, end)\n",
    "            [i.extend([id, idName]) for i in oneStep]\n",
    "            if (i + 1) % 5 == 0:\n",
    "                print(\"Buoy {} API call {} / {} complete, sleeping 45\".format(id, i+1, len(keyList)))\n",
    "                time.sleep(45)\n",
    "        bigList.extend(oneStep)\n",
    "    return bigList\n",
    "\n",
    "\n",
    "pre_processed_data = initial_calls()"
   ]
  },
  {
   "cell_type": "code",
   "execution_count": 207,
   "id": "240917de",
   "metadata": {},
   "outputs": [
    {
     "data": {
      "text/plain": [
       "40"
      ]
     },
     "execution_count": 207,
     "metadata": {},
     "output_type": "execute_result"
    }
   ],
   "source": [
    "len(historicInfill['dates'])"
   ]
  },
  {
   "cell_type": "code",
   "execution_count": 104,
   "id": "ca07dde7",
   "metadata": {},
   "outputs": [],
   "source": [
    "# Get list of keys from historicInfill\n",
    "KPList = list(historicInfill.values())[0]\n",
    "keyList = [list(i.keys())[0] for i in KPList]\n",
    "\n",
    "    # Now make an api call using an f string to infill date range\n",
    "\n",
    "#for iDen in tide_station_list:\n",
    "    # To infill entire df is 40 time intervals * 28 stations \n",
    "    # id = iDen.values()\n",
    "    # idName = iDen.keys()\n",
    "    \n",
    "def getHistoric():\n",
    "    \n",
    "    id = 9444900\n",
    "    idName = 'PortTownsendWA'\n",
    "    bigList = []\n",
    "    for i in range(0, 1): #len(keyList)\n",
    "        start = list(KPList[i].values())[0]['start']\n",
    "        end = list(KPList[i].values())[0]['end']\n",
    "        call = requests.get(f\"https://api.tidesandcurrents.noaa.gov/api/prod/datagetter?begin_date={start}&end_date={end}&station={id}&product=predictions&datum=STND&time_zone=gmt&interval=hilo&units=english&application=Waves_data&format=json\")\n",
    "        call2 = call.json()['predictions']\n",
    "        oneStep = [list(i.values()) for i in call2]\n",
    "        [i.append(idName) for i in oneStep]\n",
    "        # bigList.append(oneStep)\n",
    "        print(i)\n",
    "    return oneStep\n",
    "\n"
   ]
  },
  {
   "cell_type": "code",
   "execution_count": 67,
   "id": "8115048e",
   "metadata": {},
   "outputs": [
    {
     "name": "stdout",
     "output_type": "stream",
     "text": [
      "API call 5 / 40 complete\n",
      "API call 10 / 40 complete\n",
      "API call 15 / 40 complete\n",
      "API call 20 / 40 complete\n",
      "API call 25 / 40 complete\n",
      "API call 30 / 40 complete\n",
      "API call 35 / 40 complete\n",
      "API call 40 / 40 complete\n",
      "API call 5 / 40 complete\n",
      "API call 10 / 40 complete\n",
      "API call 15 / 40 complete\n",
      "API call 20 / 40 complete\n",
      "API call 25 / 40 complete\n",
      "API call 30 / 40 complete\n",
      "API call 35 / 40 complete\n",
      "API call 40 / 40 complete\n"
     ]
    }
   ],
   "source": [
    "h = tideTest()"
   ]
  },
  {
   "cell_type": "code",
   "execution_count": 72,
   "id": "eb23a07b",
   "metadata": {},
   "outputs": [],
   "source": [
    "h"
   ]
  },
  {
   "cell_type": "code",
   "execution_count": 73,
   "id": "b10e97a6",
   "metadata": {},
   "outputs": [],
   "source": [
    "def tideTest():\n",
    "    \"\"\" \n",
    "    Testing inputting one set of 200 years of data for one location.  Once I have that down, I can \n",
    "    infill my db automatically.\n",
    "\n",
    "    \"\"\"\n",
    "    KPList = list(historicInfill.values())[0]\n",
    "    keyList = [list(i.keys())[0] for i in KPList]\n",
    "    station_list_keys = list(tide_station_list.keys())\n",
    "    station_list_values = list(tide_station_list.values())\n",
    "    bigList = []\n",
    "    for j in range(0, 2):\n",
    "        id = station_list_values[j]\n",
    "        idName = station_list_keys[j]\n",
    "        for i in range(len(keyList)):\n",
    "            start = list(KPList[i].values())[0]['start']\n",
    "            end = list(KPList[i].values())[0]['end']\n",
    "            call = requests.get(f\"https://api.tidesandcurrents.noaa.gov/api/prod/datagetter?begin_date={start}&end_date={end}&station={id}&product=predictions&datum=STND&time_zone=gmt&interval=hilo&units=english&application=Waves_data&format=json\")\n",
    "            response = call.json()['predictions']\n",
    "            oneStep = [list(i.values()) for i in response]\n",
    "            [i.extend([id, idName]) for i in oneStep]\n",
    "            if (i + 1) % 5 == 0:\n",
    "                print(\"Buoy {} API call {} / {} complete\".format(id, i+1, len(keyList)))\n",
    "        bigList.extend(oneStep)\n",
    "    return bigList"
   ]
  },
  {
   "cell_type": "code",
   "execution_count": 87,
   "id": "af8fd4f1",
   "metadata": {},
   "outputs": [],
   "source": [
    "start = \"19060101\"\n",
    "end = \"19101231\"\n",
    "i = 9410170\n",
    "\n",
    "call = requests.get(f\"https://api.tidesandcurrents.noaa.gov/api/prod/datagetter?begin_date={start}&end_date={end}&station={id}&product=predictions&datum=STND&time_zone=gmt&interval=hilo&units=english&application=Waves_data&format=json\")\n",
    "response = call.json()"
   ]
  },
  {
   "cell_type": "code",
   "execution_count": 88,
   "id": "b14807cc",
   "metadata": {},
   "outputs": [
    {
     "data": {
      "text/plain": [
       "{'error': {'message': ' The station is not a valid station or there is system error.'}}"
      ]
     },
     "execution_count": 88,
     "metadata": {},
     "output_type": "execute_result"
    }
   ],
   "source": [
    "response"
   ]
  },
  {
   "cell_type": "code",
   "execution_count": 6,
   "id": "82a36e55",
   "metadata": {},
   "outputs": [],
   "source": [
    "a = tideTest()\n",
    "\n",
    "iterator=0\n",
    "for rows in a:\n",
    "    # print(f\"DATETIME:{rows[0]}, PRED:{rows[1]}, HL:{rows[2]}, LOC:{rows[3]}\")"
   ]
  },
  {
   "cell_type": "code",
   "execution_count": null,
   "id": "613355c2",
   "metadata": {},
   "outputs": [],
   "source": []
  },
  {
   "cell_type": "code",
   "execution_count": null,
   "id": "7c80b159",
   "metadata": {},
   "outputs": [],
   "source": []
  },
  {
   "cell_type": "code",
   "execution_count": 10,
   "id": "d0a5cada",
   "metadata": {},
   "outputs": [],
   "source": [
    "import csv"
   ]
  },
  {
   "cell_type": "code",
   "execution_count": 11,
   "id": "58d23c69",
   "metadata": {},
   "outputs": [],
   "source": [
    "with open('test.csv', 'w', newline='') as f:\n",
    "    writer = csv.writer(f)\n",
    "    writer.writerows(a)"
   ]
  },
  {
   "cell_type": "code",
   "execution_count": 106,
   "id": "61de10d1",
   "metadata": {},
   "outputs": [
    {
     "name": "stdout",
     "output_type": "stream",
     "text": [
      "0\n"
     ]
    }
   ],
   "source": [
    "bl = getHistoric()"
   ]
  },
  {
   "cell_type": "code",
   "execution_count": null,
   "id": "f19a723d",
   "metadata": {
    "scrolled": false
   },
   "outputs": [],
   "source": []
  },
  {
   "cell_type": "code",
   "execution_count": 8,
   "id": "9b90f9a7",
   "metadata": {},
   "outputs": [
    {
     "ename": "NameError",
     "evalue": "name 'bl' is not defined",
     "output_type": "error",
     "traceback": [
      "\u001b[0;31m---------------------------------------------------------------------------\u001b[0m",
      "\u001b[0;31mNameError\u001b[0m                                 Traceback (most recent call last)",
      "\u001b[0;32m<ipython-input-8-25c56df173cf>\u001b[0m in \u001b[0;36m<module>\u001b[0;34m\u001b[0m\n\u001b[0;32m----> 1\u001b[0;31m \u001b[0mbl\u001b[0m\u001b[0;34m\u001b[0m\u001b[0;34m\u001b[0m\u001b[0m\n\u001b[0m\u001b[1;32m      2\u001b[0m \u001b[0mbbl\u001b[0m \u001b[0;34m=\u001b[0m \u001b[0;34m[\u001b[0m\u001b[0;34m]\u001b[0m\u001b[0;34m\u001b[0m\u001b[0;34m\u001b[0m\u001b[0m\n\u001b[1;32m      3\u001b[0m \u001b[0;31m# bbl = [i.append(\"word\") for i in bl]\u001b[0m\u001b[0;34m\u001b[0m\u001b[0;34m\u001b[0m\u001b[0;34m\u001b[0m\u001b[0m\n\u001b[1;32m      4\u001b[0m \u001b[0;34m[\u001b[0m\u001b[0mprint\u001b[0m\u001b[0;34m(\u001b[0m\u001b[0mi\u001b[0m\u001b[0;34m)\u001b[0m \u001b[0;32mfor\u001b[0m \u001b[0mi\u001b[0m \u001b[0;32min\u001b[0m \u001b[0mbl\u001b[0m\u001b[0;34m]\u001b[0m\u001b[0;34m\u001b[0m\u001b[0;34m\u001b[0m\u001b[0m\n",
      "\u001b[0;31mNameError\u001b[0m: name 'bl' is not defined"
     ]
    }
   ],
   "source": [
    "bl\n",
    "bbl = []\n",
    "# bbl = [i.append(\"word\") for i in bl]\n",
    "[print(i) for i in bl]"
   ]
  },
  {
   "cell_type": "code",
   "execution_count": null,
   "id": "8938fdf9",
   "metadata": {},
   "outputs": [],
   "source": [
    "bl2"
   ]
  },
  {
   "cell_type": "code",
   "execution_count": 40,
   "id": "1c05186f",
   "metadata": {},
   "outputs": [],
   "source": [
    "testCall = requests.get(f\"https://api.tidesandcurrents.noaa.gov/api/prod/datagetter?begin_date=19260101&end_date=19291231&station=9444900&product=predictions&datum=STND&time_zone=gmt&interval=hilo&units=english&application=Waves_data&format=json\")"
   ]
  },
  {
   "cell_type": "code",
   "execution_count": 9,
   "id": "b2f824af",
   "metadata": {},
   "outputs": [
    {
     "ename": "NameError",
     "evalue": "name 'testCall' is not defined",
     "output_type": "error",
     "traceback": [
      "\u001b[0;31m---------------------------------------------------------------------------\u001b[0m",
      "\u001b[0;31mNameError\u001b[0m                                 Traceback (most recent call last)",
      "\u001b[0;32m<ipython-input-9-2f6af5db0606>\u001b[0m in \u001b[0;36m<module>\u001b[0;34m\u001b[0m\n\u001b[0;32m----> 1\u001b[0;31m \u001b[0mtc\u001b[0m \u001b[0;34m=\u001b[0m \u001b[0mtestCall\u001b[0m\u001b[0;34m.\u001b[0m\u001b[0mjson\u001b[0m\u001b[0;34m(\u001b[0m\u001b[0;34m)\u001b[0m \u001b[0;31m#['predictions']  # [2].values() # [time , value, type]\u001b[0m\u001b[0;34m\u001b[0m\u001b[0;34m\u001b[0m\u001b[0m\n\u001b[0m\u001b[1;32m      2\u001b[0m \u001b[0mtc\u001b[0m\u001b[0;34m\u001b[0m\u001b[0;34m\u001b[0m\u001b[0m\n\u001b[1;32m      3\u001b[0m \u001b[0;31m# 19400101\", \"end\":\"19451231\u001b[0m\u001b[0;34m\u001b[0m\u001b[0;34m\u001b[0m\u001b[0;34m\u001b[0m\u001b[0m\n\u001b[1;32m      4\u001b[0m \u001b[0;31m# [print(i) for i in tc]\u001b[0m\u001b[0;34m\u001b[0m\u001b[0;34m\u001b[0m\u001b[0;34m\u001b[0m\u001b[0m\n",
      "\u001b[0;31mNameError\u001b[0m: name 'testCall' is not defined"
     ]
    }
   ],
   "source": [
    "tc = testCall.json() #['predictions']  # [2].values() # [time , value, type]\n",
    "tc\n",
    "# 19400101\", \"end\":\"19451231\n",
    "# [print(i) for i in tc]"
   ]
  }
 ],
 "metadata": {
  "kernelspec": {
   "display_name": "Python 3",
   "language": "python",
   "name": "python3"
  },
  "language_info": {
   "codemirror_mode": {
    "name": "ipython",
    "version": 3
   },
   "file_extension": ".py",
   "mimetype": "text/x-python",
   "name": "python",
   "nbconvert_exporter": "python",
   "pygments_lexer": "ipython3",
   "version": "3.8.6"
  }
 },
 "nbformat": 4,
 "nbformat_minor": 5
}
